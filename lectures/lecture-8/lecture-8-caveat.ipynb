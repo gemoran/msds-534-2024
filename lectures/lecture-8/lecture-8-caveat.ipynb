{
 "cells": [
  {
   "cell_type": "code",
   "execution_count": 51,
   "metadata": {},
   "outputs": [
    {
     "name": "stderr",
     "output_type": "stream",
     "text": [
      "/var/folders/f0/m7l23y8s7p3_0x04b3td9nyjr2hyc8/T/ipykernel_4161/1945614140.py:27: DeprecationWarning: Conversion of an array with ndim > 0 to a scalar is deprecated, and will error in future. Ensure you extract a single element from your array before performing this operation. (Deprecated NumPy 1.25.)\n",
      "  preds10[i, j] = (new_variable < qhat)\n"
     ]
    }
   ],
   "source": [
    "import numpy as np\n",
    "import matplotlib.pyplot as plt\n",
    "from scipy.stats import beta\n",
    "\n",
    "# Parameters\n",
    "N = 10  # Total number of variables\n",
    "nprob = 1000  # samples to estimate coverage probability\n",
    "ndraw = 5000 # estimating beta distribution\n",
    "\n",
    "alpha = 0.1\n",
    "\n",
    "preds10 = np.zeros((ndraw, nprob))\n",
    "\n",
    "for i in range(ndraw):\n",
    "\n",
    "    preds = []\n",
    "    # fixed calibration set\n",
    "    observed_variables = np.random.normal(0, 1, N)\n",
    "    # quantile of fixed calibration set\n",
    "    qhat = np.quantile(observed_variables, np.ceil((1-alpha) * (N+1)) / N)\n",
    "\n",
    "    for j in range(nprob):\n",
    "\n",
    "        # Generate the N-th random variable\n",
    "        new_variable = np.random.normal(0, 1, 1)\n",
    "        # is this variable in the prediction set???\n",
    "        preds10[i, j] = (new_variable < qhat)\n"
   ]
  },
  {
   "cell_type": "code",
   "execution_count": 52,
   "metadata": {},
   "outputs": [
    {
     "data": {
      "text/plain": [
       "(array([2.000e+00, 7.000e+00, 1.200e+01, 3.000e+01, 7.800e+01, 1.520e+02,\n",
       "        3.680e+02, 6.730e+02, 1.265e+03, 2.413e+03]),\n",
       " array([0.39 , 0.451, 0.512, 0.573, 0.634, 0.695, 0.756, 0.817, 0.878,\n",
       "        0.939, 1.   ]),\n",
       " <BarContainer object of 10 artists>)"
      ]
     },
     "execution_count": 52,
     "metadata": {},
     "output_type": "execute_result"
    },
    {
     "data": {
      "image/png": "[encoded data removed]",
      "text/plain": [
       "<Figure size 640x480 with 1 Axes>"
      ]
     },
     "metadata": {},
     "output_type": "display_data"
    }
   ],
   "source": [
    "# each row corresponds to a fixed calibration set\n",
    "plt.hist(preds10.mean(1))"
   ]
  },
  {
   "cell_type": "code",
   "execution_count": 53,
   "metadata": {},
   "outputs": [
    {
     "data": {
      "text/plain": [
       "0.9108314"
      ]
     },
     "execution_count": 53,
     "metadata": {},
     "output_type": "execute_result"
    }
   ],
   "source": [
    "preds10.mean()"
   ]
  },
  {
   "cell_type": "code",
   "execution_count": 54,
   "metadata": {},
   "outputs": [
    {
     "name": "stderr",
     "output_type": "stream",
     "text": [
      "/var/folders/f0/m7l23y8s7p3_0x04b3td9nyjr2hyc8/T/ipykernel_4161/3492330592.py:23: DeprecationWarning: Conversion of an array with ndim > 0 to a scalar is deprecated, and will error in future. Ensure you extract a single element from your array before performing this operation. (Deprecated NumPy 1.25.)\n",
      "  preds50[i, j] = (new_variable < qhat)\n"
     ]
    }
   ],
   "source": [
    "# Parameters\n",
    "N = 50  # Total number of variables\n",
    "nprob = 1000  # Number of simulations\n",
    "ndraw = 5000\n",
    "\n",
    "alpha = 0.1\n",
    "\n",
    "preds50 = np.zeros((ndraw, nprob))\n",
    "\n",
    "for i in range(ndraw):\n",
    "\n",
    "    preds = []\n",
    "\n",
    "    observed_variables = np.random.normal(0, 1, N)\n",
    "\n",
    "    qhat = np.quantile(observed_variables, np.ceil((1-alpha) * (N+1)) / N)\n",
    "\n",
    "    for j in range(nprob):\n",
    "\n",
    "        # Generate the N-th random variable\n",
    "        new_variable = np.random.normal(0, 1, 1)\n",
    "\n",
    "        preds50[i, j] = (new_variable < qhat)\n"
   ]
  },
  {
   "cell_type": "code",
   "execution_count": 55,
   "metadata": {},
   "outputs": [
    {
     "name": "stderr",
     "output_type": "stream",
     "text": [
      "/var/folders/f0/m7l23y8s7p3_0x04b3td9nyjr2hyc8/T/ipykernel_4161/2919383409.py:23: DeprecationWarning: Conversion of an array with ndim > 0 to a scalar is deprecated, and will error in future. Ensure you extract a single element from your array before performing this operation. (Deprecated NumPy 1.25.)\n",
      "  preds1000[i, j] = (new_variable < qhat)\n"
     ]
    }
   ],
   "source": [
    "# Parameters\n",
    "N = 1000  # Total number of variables\n",
    "nprob = 1000  # Number of simulations\n",
    "ndraw = 5000\n",
    "\n",
    "alpha = 0.1\n",
    "\n",
    "preds1000 = np.zeros((ndraw, nprob))\n",
    "\n",
    "for i in range(ndraw):\n",
    "\n",
    "    preds = []\n",
    "\n",
    "    observed_variables = np.random.normal(0, 1, N)\n",
    "\n",
    "    qhat = np.quantile(observed_variables, np.ceil((1-alpha) * (N+1)) / N)\n",
    "\n",
    "    for j in range(nprob):\n",
    "\n",
    "        # Generate the N-th random variable\n",
    "        new_variable = np.random.normal(0, 1, 1)\n",
    "\n",
    "        preds1000[i, j] = (new_variable < qhat)\n"
   ]
  },
  {
   "cell_type": "code",
   "execution_count": 25,
   "metadata": {},
   "outputs": [
    {
     "data": {
      "text/plain": [
       "<matplotlib.legend.Legend at 0x15fc38150>"
      ]
     },
     "execution_count": 25,
     "metadata": {},
     "output_type": "execute_result"
    },
    {
     "data": {
      "image/png": "[encoded data removed]",
      "text/plain": [
       "<Figure size 400x300 with 1 Axes>"
      ]
     },
     "metadata": {},
     "output_type": "display_data"
    }
   ],
   "source": [
    "plt.figure(figsize=(4,3))\n",
    "plt.hist(preds10.mean(axis=1),density=True,alpha=0.5, label=r'$N_2=10$')\n",
    "plt.hist(preds50.mean(axis=1),density=True,alpha=0.5, label=r'$N_2=50$')\n",
    "plt.hist(preds1000.mean(axis=1),density=True,alpha=0.5, label=r'$N_2=500$')\n",
    "plt.legend()"
   ]
  },
  {
   "cell_type": "code",
   "execution_count": 50,
   "metadata": {},
   "outputs": [
    {
     "name": "stdout",
     "output_type": "stream",
     "text": [
      "0.9061804\n",
      "0.9037104\n",
      "0.902485\n"
     ]
    }
   ],
   "source": [
    "print(preds10.mean())\n",
    "print(preds50.mean())\n",
    "print(preds500.mean())"
   ]
  },
  {
   "cell_type": "code",
   "execution_count": 48,
   "metadata": {},
   "outputs": [],
   "source": [
    "# Parameters\n",
    "N = 10  \n",
    "ndraw = 5000\n",
    "\n",
    "rank = np.zeros((ndraw))\n",
    "observed_variables = np.random.normal(0, 1, N-1)\n",
    "\n",
    "for i in range(ndraw):\n",
    "    \n",
    "    new_variable = np.random.normal(0, 1, 1)\n",
    "\n",
    "    variables = np.concatenate([observed_variables,new_variable])\n",
    "    variables_rank = variables.argsort().argsort() + 1\n",
    "    rank[i] = variables_rank[-1]\n"
   ]
  },
  {
   "cell_type": "code",
   "execution_count": 49,
   "metadata": {},
   "outputs": [
    {
     "data": {
      "text/plain": [
       "(array([ 365.,  420.,  167.,   50., 1575.,  141.,  969.,  270.,  357.,\n",
       "         686.]),\n",
       " array([ 1. ,  1.9,  2.8,  3.7,  4.6,  5.5,  6.4,  7.3,  8.2,  9.1, 10. ]),\n",
       " <BarContainer object of 10 artists>)"
      ]
     },
     "execution_count": 49,
     "metadata": {},
     "output_type": "execute_result"
    },
    {
     "data": {
      "image/png": "[encoded data removed]",
      "text/plain": [
       "<Figure size 640x480 with 1 Axes>"
      ]
     },
     "metadata": {},
     "output_type": "display_data"
    }
   ],
   "source": [
    "plt.hist(rank)"
   ]
  },
  {
   "cell_type": "code",
   "execution_count": 43,
   "metadata": {},
   "outputs": [],
   "source": [
    "# Parameters\n",
    "N = 10  \n",
    "ndraw = 5000\n",
    "\n",
    "rank = np.zeros((ndraw))\n",
    "\n",
    "for i in range(ndraw):\n",
    "    \n",
    "    observed_variables = np.random.normal(0, 1, N-1)\n",
    "    new_variable = np.random.normal(0, 1, 1)\n",
    "\n",
    "    variables = np.concatenate([observed_variables,new_variable])\n",
    "    variables_rank = variables.argsort().argsort() + 1\n",
    "    rank[i] = variables_rank[-1]\n"
   ]
  },
  {
   "cell_type": "code",
   "execution_count": 44,
   "metadata": {},
   "outputs": [
    {
     "data": {
      "text/plain": [
       "(array([499., 481., 515., 521., 497., 502., 524., 454., 512., 495.]),\n",
       " array([ 1. ,  1.9,  2.8,  3.7,  4.6,  5.5,  6.4,  7.3,  8.2,  9.1, 10. ]),\n",
       " <BarContainer object of 10 artists>)"
      ]
     },
     "execution_count": 44,
     "metadata": {},
     "output_type": "execute_result"
    },
    {
     "data": {
      "image/png": "[encoded data removed]",
      "text/plain": [
       "<Figure size 640x480 with 1 Axes>"
      ]
     },
     "metadata": {},
     "output_type": "display_data"
    }
   ],
   "source": [
    "plt.hist(rank)"
   ]
  }
 ],
 "metadata": {
  "kernelspec": {
   "display_name": "msds534",
   "language": "python",
   "name": "python3"
  },
  "language_info": {
   "codemirror_mode": {
    "name": "ipython",
    "version": 3
   },
   "file_extension": ".py",
   "mimetype": "text/x-python",
   "name": "python",
   "nbconvert_exporter": "python",
   "pygments_lexer": "ipython3",
   "version": "3.11.5"
  }
 },
 "nbformat": 4,
 "nbformat_minor": 2
}
