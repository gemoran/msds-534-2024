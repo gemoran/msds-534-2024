{
 "cells": [
  {
   "cell_type": "code",
   "execution_count": 7,
   "metadata": {},
   "outputs": [
    {
     "data": {
      "text/plain": [
       "<torch._C.Generator at 0x12a11f110>"
      ]
     },
     "execution_count": 7,
     "metadata": {},
     "output_type": "execute_result"
    }
   ],
   "source": [
    "\n",
    "import torch\n",
    "import torch.nn as nn\n",
    "import torch.optim as optim\n",
    "import numpy as np\n",
    "import matplotlib.pyplot as plt\n",
    "import scipy\n",
    "\n",
    "torch.manual_seed(42)\n"
   ]
  },
  {
   "cell_type": "markdown",
   "metadata": {},
   "source": [
    "## Simple A/B test"
   ]
  },
  {
   "cell_type": "code",
   "execution_count": 8,
   "metadata": {},
   "outputs": [],
   "source": [
    "n_sim = 500 # how many permutations will we run ? (B in the lecture notes)\n",
    "\n",
    "my_viewsA = 98 # number of clicks for video A\n",
    "my_viewsB = 162 # number of clicks for video B\n",
    "all_views = my_viewsA + my_viewsB\n",
    "\n",
    "n_impsA = 1000 # number of impressions for video A (total number of people who saw video title)\n",
    "n_impsB = 2000 # number of impresssion for video B\n",
    "all_imps = n_impsA + n_impsB\n",
    "\n",
    "obs_T = abs(my_viewsA/n_impsA - my_viewsB/n_impsB) # |theta_1 - theta_2|"
   ]
  },
  {
   "cell_type": "code",
   "execution_count": 9,
   "metadata": {},
   "outputs": [
    {
     "data": {
      "text/plain": [
       "0.098"
      ]
     },
     "execution_count": 9,
     "metadata": {},
     "output_type": "execute_result"
    }
   ],
   "source": [
    "my_viewsA/n_impsA"
   ]
  },
  {
   "cell_type": "code",
   "execution_count": 10,
   "metadata": {},
   "outputs": [
    {
     "data": {
      "text/plain": [
       "0.081"
      ]
     },
     "execution_count": 10,
     "metadata": {},
     "output_type": "execute_result"
    }
   ],
   "source": [
    "my_viewsB/n_impsB"
   ]
  },
  {
   "cell_type": "code",
   "execution_count": 11,
   "metadata": {},
   "outputs": [],
   "source": [
    "obs_T = abs(my_viewsA/n_impsA - my_viewsB/n_impsB) # |theta_1 - theta_2|"
   ]
  },
  {
   "cell_type": "code",
   "execution_count": 12,
   "metadata": {},
   "outputs": [
    {
     "data": {
      "text/plain": [
       "0.017"
      ]
     },
     "execution_count": 12,
     "metadata": {},
     "output_type": "execute_result"
    }
   ],
   "source": [
    "obs_T"
   ]
  },
  {
   "cell_type": "code",
   "execution_count": null,
   "metadata": {},
   "outputs": [],
   "source": [
    "# dataset 1\n",
    "# (1,1,1,1...,1,0,0,...,0) (98 ones, 1000-98 zeroes) \n",
    "\n",
    "# dataset 2\n",
    "# (1,1,1,1...,1,0,0,...,0) (162 ones, 2000-162 zeroes) "
   ]
  },
  {
   "cell_type": "code",
   "execution_count": null,
   "metadata": {},
   "outputs": [],
   "source": [
    "pool = np.array([1]*all_views + [0]*(all_imps - all_views))"
   ]
  },
  {
   "cell_type": "code",
   "execution_count": 26,
   "metadata": {},
   "outputs": [],
   "source": [
    "# Sample without replacement for impsA\n",
    "impsA = np.random.choice(pool, n_impsA, replace=False)\n",
    "# new permuted dataset of size n_impsA\n",
    "viewsA = np.sum(impsA)\n",
    "viewsB = all_views - viewsA"
   ]
  },
  {
   "cell_type": "code",
   "execution_count": 28,
   "metadata": {},
   "outputs": [
    {
     "name": "stdout",
     "output_type": "stream",
     "text": [
      "P-Value: 0.1280\n"
     ]
    },
    {
     "data": {
      "image/png": "[encoded data removed]",
      "text/plain": [
       "<Figure size 640x480 with 1 Axes>"
      ]
     },
     "metadata": {},
     "output_type": "display_data"
    }
   ],
   "source": [
    "resampled_Ts = np.zeros(n_sim) # where to store our permutation test statistics\n",
    "\n",
    "for cur_sim in range(n_sim):\n",
    "    # Pool with 1s for views and 0s for non-views\n",
    "    pool = np.array([1]*all_views + [0]*(all_imps - all_views))\n",
    "    # create an array with (98+162) ones and (1000+2000 - 98-162) zeros\n",
    "    \n",
    "    # (1, 1, 1, 1, ..., 1, 0, 0, 0, ..., 0) (1, 1,.., 1, 0, 0, 0, 0, ...,0)\n",
    "    # (1, 1, 0, 0, 0, 1, ..., 0, 1, 0, )\n",
    "\n",
    "    # Sample without replacement for impsA\n",
    "    impsA = np.random.choice(pool, n_impsA, replace=False)\n",
    "    # new permuted dataset of size n_impsA\n",
    "    viewsA = np.sum(impsA)\n",
    "    viewsB = all_views - viewsA\n",
    "    \n",
    "    resampled_Ts[cur_sim] = abs(viewsA/n_impsA - viewsB/n_impsB) # | theta_1 -theta_2| for this dataset\n",
    "\n",
    "p_value = sum([1 for t in resampled_Ts if t >= obs_T]) / n_sim\n",
    "\n",
    "print(f\"P-Value: {p_value:.4f}\")\n",
    "\n",
    "\n",
    "plt.hist(resampled_Ts, bins=20)\n",
    "plt.axvline(obs_T, color='red')\n",
    "plt.show()\n",
    "\n"
   ]
  },
  {
   "cell_type": "code",
   "execution_count": 29,
   "metadata": {},
   "outputs": [
    {
     "data": {
      "text/plain": [
       "array([0.0035, 0.002 , 0.0205, 0.0025, 0.008 , 0.004 , 0.016 , 0.0095,\n",
       "       0.0185, 0.001 , 0.002 , 0.0005, 0.0085, 0.005 , 0.004 , 0.0125,\n",
       "       0.007 , 0.013 , 0.0095, 0.004 , 0.0005, 0.0145, 0.0035, 0.0085,\n",
       "       0.0035, 0.0125, 0.0065, 0.0125, 0.0055, 0.0085, 0.004 , 0.0115,\n",
       "       0.0095, 0.0035, 0.0115, 0.0025, 0.0035, 0.0005, 0.0155, 0.0005,\n",
       "       0.0065, 0.0125, 0.008 , 0.0005, 0.0035, 0.013 , 0.01  , 0.013 ,\n",
       "       0.001 , 0.0005, 0.013 , 0.014 , 0.004 , 0.0175, 0.0205, 0.0125,\n",
       "       0.0125, 0.0005, 0.0025, 0.001 , 0.013 , 0.0005, 0.01  , 0.017 ,\n",
       "       0.005 , 0.0155, 0.0035, 0.0295, 0.0185, 0.0025, 0.0025, 0.001 ,\n",
       "       0.002 , 0.0065, 0.001 , 0.0085, 0.0065, 0.0065, 0.0025, 0.0025,\n",
       "       0.004 , 0.004 , 0.0145, 0.011 , 0.008 , 0.008 , 0.016 , 0.014 ,\n",
       "       0.01  , 0.007 , 0.0125, 0.005 , 0.0155, 0.022 , 0.008 , 0.0085,\n",
       "       0.0125, 0.008 , 0.002 , 0.01  , 0.007 , 0.0145, 0.0125, 0.002 ,\n",
       "       0.0145, 0.007 , 0.005 , 0.0065, 0.013 , 0.011 , 0.0035, 0.0035,\n",
       "       0.0155, 0.0115, 0.0175, 0.008 , 0.0095, 0.001 , 0.0025, 0.0085,\n",
       "       0.0145, 0.007 , 0.0035, 0.011 , 0.004 , 0.0205, 0.0035, 0.0005,\n",
       "       0.008 , 0.008 , 0.0145, 0.007 , 0.0095, 0.0085, 0.017 , 0.0035,\n",
       "       0.025 , 0.011 , 0.0145, 0.0085, 0.014 , 0.013 , 0.001 , 0.0025,\n",
       "       0.0125, 0.0185, 0.0125, 0.01  , 0.007 , 0.0125, 0.0005, 0.004 ,\n",
       "       0.0065, 0.017 , 0.0035, 0.0215, 0.016 , 0.023 , 0.002 , 0.0025,\n",
       "       0.005 , 0.004 , 0.0065, 0.0265, 0.0025, 0.0175, 0.0125, 0.0205,\n",
       "       0.013 , 0.0065, 0.014 , 0.008 , 0.002 , 0.001 , 0.0065, 0.0125,\n",
       "       0.0205, 0.0155, 0.0025, 0.022 , 0.007 , 0.0055, 0.0085, 0.0025,\n",
       "       0.001 , 0.0095, 0.0085, 0.01  , 0.01  , 0.0115, 0.0115, 0.008 ,\n",
       "       0.0095, 0.019 , 0.004 , 0.0155, 0.029 , 0.0115, 0.001 , 0.001 ,\n",
       "       0.019 , 0.005 , 0.005 , 0.007 , 0.014 , 0.02  , 0.0145, 0.0115,\n",
       "       0.0085, 0.0085, 0.014 , 0.026 , 0.007 , 0.002 , 0.0095, 0.0095,\n",
       "       0.0035, 0.007 , 0.0155, 0.0025, 0.007 , 0.016 , 0.001 , 0.0185,\n",
       "       0.005 , 0.01  , 0.001 , 0.013 , 0.014 , 0.014 , 0.016 , 0.016 ,\n",
       "       0.005 , 0.019 , 0.001 , 0.005 , 0.0125, 0.008 , 0.0025, 0.0155,\n",
       "       0.0155, 0.0005, 0.0115, 0.0065, 0.0115, 0.011 , 0.0005, 0.004 ,\n",
       "       0.0145, 0.023 , 0.0125, 0.001 , 0.0125, 0.0125, 0.0155, 0.0035,\n",
       "       0.0025, 0.0025, 0.001 , 0.008 , 0.0085, 0.0005, 0.0155, 0.002 ,\n",
       "       0.0065, 0.0005, 0.0085, 0.01  , 0.014 , 0.0175, 0.017 , 0.002 ,\n",
       "       0.0085, 0.0085, 0.0035, 0.008 , 0.005 , 0.0145, 0.023 , 0.0185,\n",
       "       0.008 , 0.011 , 0.0065, 0.0055, 0.002 , 0.0085, 0.008 , 0.004 ,\n",
       "       0.007 , 0.0035, 0.0085, 0.0005, 0.0025, 0.001 , 0.0065, 0.0115,\n",
       "       0.0035, 0.0305, 0.0005, 0.0005, 0.0095, 0.005 , 0.002 , 0.002 ,\n",
       "       0.0055, 0.001 , 0.004 , 0.008 , 0.0025, 0.0115, 0.008 , 0.0055,\n",
       "       0.004 , 0.004 , 0.017 , 0.013 , 0.0085, 0.001 , 0.0175, 0.016 ,\n",
       "       0.008 , 0.0005, 0.0035, 0.0115, 0.0035, 0.0175, 0.0055, 0.0065,\n",
       "       0.007 , 0.007 , 0.005 , 0.0085, 0.0055, 0.0025, 0.0095, 0.011 ,\n",
       "       0.0025, 0.0205, 0.016 , 0.0155, 0.0095, 0.005 , 0.02  , 0.01  ,\n",
       "       0.0025, 0.013 , 0.01  , 0.0085, 0.0095, 0.005 , 0.0005, 0.0025,\n",
       "       0.002 , 0.0185, 0.0155, 0.005 , 0.005 , 0.008 , 0.007 , 0.0095,\n",
       "       0.0005, 0.014 , 0.008 , 0.0145, 0.005 , 0.001 , 0.005 , 0.0205,\n",
       "       0.0145, 0.001 , 0.0035, 0.001 , 0.01  , 0.0005, 0.013 , 0.0175,\n",
       "       0.0095, 0.002 , 0.014 , 0.0055, 0.0035, 0.005 , 0.0065, 0.0035,\n",
       "       0.001 , 0.0155, 0.0035, 0.011 , 0.0085, 0.005 , 0.0095, 0.0035,\n",
       "       0.0095, 0.011 , 0.0115, 0.007 , 0.0155, 0.0265, 0.016 , 0.007 ,\n",
       "       0.023 , 0.0215, 0.019 , 0.0065, 0.0125, 0.002 , 0.0055, 0.008 ,\n",
       "       0.0175, 0.0115, 0.004 , 0.017 , 0.0035, 0.0115, 0.0125, 0.0055,\n",
       "       0.0185, 0.0025, 0.0005, 0.019 , 0.016 , 0.002 , 0.0005, 0.0025,\n",
       "       0.0035, 0.023 , 0.0065, 0.005 , 0.02  , 0.0065, 0.0085, 0.0085,\n",
       "       0.0095, 0.016 , 0.0115, 0.028 , 0.0065, 0.014 , 0.007 , 0.002 ,\n",
       "       0.0215, 0.0155, 0.0085, 0.0125, 0.0115, 0.0005, 0.0185, 0.013 ,\n",
       "       0.0035, 0.002 , 0.0035, 0.0025, 0.0025, 0.0035, 0.0005, 0.0175,\n",
       "       0.017 , 0.001 , 0.002 , 0.017 , 0.0005, 0.002 , 0.013 , 0.0205,\n",
       "       0.004 , 0.0115, 0.005 , 0.0115, 0.016 , 0.01  , 0.0175, 0.0125,\n",
       "       0.026 , 0.0145, 0.0025, 0.0025, 0.008 , 0.0035, 0.0085, 0.001 ,\n",
       "       0.004 , 0.011 , 0.004 , 0.008 , 0.014 , 0.0125, 0.0065, 0.0095,\n",
       "       0.0085, 0.0055, 0.0235, 0.0055, 0.0305, 0.014 , 0.01  , 0.002 ,\n",
       "       0.0055, 0.0205, 0.008 , 0.0065])"
      ]
     },
     "execution_count": 29,
     "metadata": {},
     "output_type": "execute_result"
    }
   ],
   "source": [
    "resampled_Ts"
   ]
  },
  {
   "cell_type": "markdown",
   "metadata": {},
   "source": [
    "## Independence test with neural networks"
   ]
  },
  {
   "cell_type": "code",
   "execution_count": 30,
   "metadata": {},
   "outputs": [],
   "source": [
    "class NNet(nn.Module):\n",
    "    def __init__(self, in_dim, out_dim):\n",
    "        super(NNet, self).__init__()\n",
    "        self.sequential = nn.Sequential(\n",
    "            nn.Linear(in_dim, 2*in_dim),\n",
    "            nn.ReLU(),\n",
    "            nn.Linear(2*in_dim, out_dim))\n",
    "\n",
    "    def forward(self, x):\n",
    "        return self.sequential(x)"
   ]
  },
  {
   "cell_type": "code",
   "execution_count": 45,
   "metadata": {},
   "outputs": [],
   "source": [
    "# let's create a simulated dataset where Y depends on X through B\n",
    "# Y = XB + noise\n",
    "# ideally we should reject the null hypothesis that Y and X are independent (because they're not)\n",
    "\n",
    "p1 = 5 # dimension of X\n",
    "p2 = 3 # dimension of Y\n",
    "\n",
    "signal_strength = 0.2\n",
    "\n",
    "n_samples = 10000\n",
    "\n",
    "X = np.random.randn(n_samples, p1)\n",
    "\n",
    "B = np.random.randn(p2, p1)\n",
    "B = B / np.linalg.norm(B, ord='fro') # some parameter\n",
    "\n",
    "Y = signal_strength * X @ B.T + np.random.randn(n_samples, p2)\n",
    "# Y = B X + random noise\n",
    "\n",
    "X = torch.tensor(X, dtype=torch.float32)\n",
    "Y = torch.tensor(Y, dtype=torch.float32)"
   ]
  },
  {
   "cell_type": "code",
   "execution_count": 41,
   "metadata": {},
   "outputs": [],
   "source": [
    "def trainerr(x, y, epochs=100):\n",
    "\n",
    "    # trains a neural network to predict y from x\n",
    "\n",
    "    net = NNet(p1, p2)\n",
    "\n",
    "    optimizer = optim.Adam(net.parameters(), lr=0.2)\n",
    "    for epoch in range(epochs):\n",
    "        optimizer.zero_grad()\n",
    "        outputs = net(x)\n",
    "        \n",
    "        loss = nn.MSELoss(reduction='mean')(outputs, y)\n",
    "        loss.backward()\n",
    "        optimizer.step()\n",
    "        \n",
    "    return loss.item()\n",
    "\n",
    "# our observed test statistic is the loss in predicting y from x\n",
    "obs_T = trainerr(X, Y)"
   ]
  },
  {
   "cell_type": "code",
   "execution_count": 42,
   "metadata": {},
   "outputs": [
    {
     "data": {
      "text/plain": [
       "0.9884689450263977"
      ]
     },
     "execution_count": 42,
     "metadata": {},
     "output_type": "execute_result"
    }
   ],
   "source": [
    "obs_T"
   ]
  },
  {
   "cell_type": "code",
   "execution_count": 43,
   "metadata": {},
   "outputs": [],
   "source": [
    "# Perform permutation testing\n",
    "n_permutations = 300\n",
    "resampled_Ts = []\n",
    "\n",
    "for _ in range(n_permutations):\n",
    "    permuted_Y = Y[torch.randperm(n_samples)]\n",
    "    resampled_T = trainerr(X, permuted_Y) # train a neural network, output training loss\n",
    "    resampled_Ts.append(resampled_T)\n"
   ]
  },
  {
   "cell_type": "code",
   "execution_count": 44,
   "metadata": {},
   "outputs": [
    {
     "data": {
      "image/png": "[encoded data removed]",
      "text/plain": [
       "<Figure size 640x480 with 1 Axes>"
      ]
     },
     "metadata": {},
     "output_type": "display_data"
    },
    {
     "name": "stdout",
     "output_type": "stream",
     "text": [
      "Observed test statistic: 0.9885\n",
      "P-Value: 0.6767\n"
     ]
    }
   ],
   "source": [
    "# Calculate p-value\n",
    "p_value = sum([1 for t in resampled_Ts if t <= obs_T]) / n_permutations\n",
    "\n",
    "# plot distribution of permuted_test_statistics\n",
    "plt.hist(resampled_Ts, bins=20)\n",
    "plt.axvline(obs_T, color='red')\n",
    "plt.show()\n",
    "\n",
    "\n",
    "print(f\"Observed test statistic: {obs_T:.4f}\")\n",
    "print(f\"P-Value: {p_value:.4f}\")\n",
    "\n"
   ]
  },
  {
   "cell_type": "code",
   "execution_count": 46,
   "metadata": {},
   "outputs": [],
   "source": [
    "## sample split\n",
    "ntrain = int(n_samples * 0.7) # train on 70% of the data\n",
    "ntest = n_samples - ntrain\n",
    "\n",
    "X_train = X[:ntrain]\n",
    "X_test = X[ntrain:]\n",
    "\n",
    "Y_train = Y[:ntrain]\n",
    "Y_test = Y[ntrain:]\n",
    "\n",
    "net = NNet(p1, p2)\n",
    "\n",
    "Y_train_centered = Y_train - torch.mean(Y_train, dim=0)\n"
   ]
  },
  {
   "cell_type": "code",
   "execution_count": 47,
   "metadata": {},
   "outputs": [],
   "source": [
    "epochs = 200\n",
    "optimizer = optim.SGD(net.parameters(), lr=.1)\n",
    "for epoch in range(epochs):\n",
    "    optimizer.zero_grad()\n",
    "    outputs = net(X_train)\n",
    "        \n",
    "    loss = nn.MSELoss(reduction='mean')(outputs, Y_train_centered)\n",
    "    loss.backward()\n",
    "    optimizer.step()\n",
    "\n",
    "testerrs = torch.sum((Y_test - net(X_test) - torch.mean(Y_train, dim=0))**2, dim=1)\n",
    "mean_testerr = torch.mean(testerrs)"
   ]
  },
  {
   "cell_type": "code",
   "execution_count": 50,
   "metadata": {},
   "outputs": [
    {
     "data": {
      "text/plain": [
       "tensor([2.9590, 2.7678, 1.1140,  ..., 3.0615, 1.2602, 0.5417],\n",
       "       grad_fn=<SumBackward1>)"
      ]
     },
     "execution_count": 50,
     "metadata": {},
     "output_type": "execute_result"
    }
   ],
   "source": [
    "testerrs"
   ]
  },
  {
   "cell_type": "code",
   "execution_count": 51,
   "metadata": {},
   "outputs": [],
   "source": [
    "nullerrs = torch.sum((Y_test - torch.mean(Y_train, dim=0))**2, dim=1)\n",
    "mean_nullerr = torch.mean( nullerrs )"
   ]
  },
  {
   "cell_type": "code",
   "execution_count": 52,
   "metadata": {},
   "outputs": [
    {
     "data": {
      "text/plain": [
       "tensor([2.9330, 2.5011, 0.8988,  ..., 2.9327, 1.8179, 0.6541])"
      ]
     },
     "execution_count": 52,
     "metadata": {},
     "output_type": "execute_result"
    }
   ],
   "source": [
    "nullerrs"
   ]
  },
  {
   "cell_type": "code",
   "execution_count": 53,
   "metadata": {},
   "outputs": [
    {
     "name": "stdout",
     "output_type": "stream",
     "text": [
      "Mean Test Errors: 3.0441\n",
      "Mean Null Test Errors: 3.0612\n"
     ]
    }
   ],
   "source": [
    "print(f\"Mean Test Errors: {mean_testerr:.4f}\")\n",
    "print(f\"Mean Null Test Errors: {mean_nullerr:.4f}\")\n",
    "\n",
    "obs_T = mean_testerr - mean_nullerr"
   ]
  },
  {
   "cell_type": "code",
   "execution_count": 54,
   "metadata": {},
   "outputs": [],
   "source": [
    "combined = torch.stack((testerrs, nullerrs), dim=1)\n"
   ]
  },
  {
   "cell_type": "code",
   "execution_count": 55,
   "metadata": {},
   "outputs": [
    {
     "data": {
      "text/plain": [
       "tensor([[2.9590, 2.9330],\n",
       "        [2.7678, 2.5011],\n",
       "        [1.1140, 0.8988],\n",
       "        ...,\n",
       "        [3.0615, 2.9327],\n",
       "        [1.2602, 1.8179],\n",
       "        [0.5417, 0.6541]], grad_fn=<StackBackward0>)"
      ]
     },
     "execution_count": 55,
     "metadata": {},
     "output_type": "execute_result"
    }
   ],
   "source": [
    "combined"
   ]
  },
  {
   "cell_type": "code",
   "execution_count": 56,
   "metadata": {},
   "outputs": [],
   "source": [
    "heads = torch.randint(0, 2, (ntest,))\n",
    "\n",
    "resampled_testerrs = combined[torch.arange(ntest), heads]\n",
    "resampled_nullerrs = combined[torch.arange(ntest), 1-heads]\n",
    "    "
   ]
  },
  {
   "cell_type": "code",
   "execution_count": 58,
   "metadata": {},
   "outputs": [
    {
     "data": {
      "image/png": "[encoded data removed]",
      "text/plain": [
       "<Figure size 640x480 with 1 Axes>"
      ]
     },
     "metadata": {},
     "output_type": "display_data"
    },
    {
     "name": "stdout",
     "output_type": "stream",
     "text": [
      "P-Value: 0.0100\n"
     ]
    }
   ],
   "source": [
    "\n",
    "n_permutations = 500\n",
    "resampled_Ts = []\n",
    "\n",
    "for _ in range(n_permutations):\n",
    "    heads = torch.randint(0, 2, (ntest,))\n",
    "\n",
    "    resampled_testerrs = combined[torch.arange(ntest), heads]\n",
    "    resampled_nullerrs = combined[torch.arange(ntest), 1-heads]\n",
    "    # test error using X - test error not using X\n",
    "    resampled_T = torch.mean(resampled_testerrs) - torch.mean(resampled_nullerrs)\n",
    "    resampled_Ts.append(resampled_T)\n",
    "\n",
    "## Calculate p-value\n",
    "p_value = sum([1 for t in resampled_Ts if t <= obs_T]) / n_permutations\n",
    "\n",
    "resampled_Ts = [t.detach().numpy() for t in resampled_Ts]\n",
    "plt.hist(resampled_Ts, bins=20)\n",
    "plt.axvline(obs_T.detach().numpy(), color='red')\n",
    "plt.show()\n",
    "\n",
    "print(f\"P-Value: {p_value:.4f}\")\n"
   ]
  },
  {
   "cell_type": "code",
   "execution_count": null,
   "metadata": {},
   "outputs": [],
   "source": []
  }
 ],
 "metadata": {
  "kernelspec": {
   "display_name": "msds534",
   "language": "python",
   "name": "python3"
  },
  "language_info": {
   "codemirror_mode": {
    "name": "ipython",
    "version": 3
   },
   "file_extension": ".py",
   "mimetype": "text/x-python",
   "name": "python",
   "nbconvert_exporter": "python",
   "pygments_lexer": "ipython3",
   "version": "3.11.5"
  },
  "orig_nbformat": 4
 },
 "nbformat": 4,
 "nbformat_minor": 2
}
